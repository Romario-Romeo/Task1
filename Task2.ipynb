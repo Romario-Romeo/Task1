{
  "nbformat": 4,
  "nbformat_minor": 0,
  "metadata": {
    "colab": {
      "provenance": []
    },
    "kernelspec": {
      "name": "python3",
      "display_name": "Python 3"
    },
    "language_info": {
      "name": "python"
    }
  },
  "cells": [
    {
      "cell_type": "markdown",
      "source": [
        "Задание №1"
      ],
      "metadata": {
        "id": "k9yK4zquC2mp"
      }
    },
    {
      "cell_type": "code",
      "execution_count": null,
      "metadata": {
        "colab": {
          "base_uri": "https://localhost:8080/"
        },
        "id": "KMkI0RRjxOAq",
        "outputId": "7ec8d9ef-6780-44f6-a8a0-72f8c5b38a85"
      },
      "outputs": [
        {
          "output_type": "stream",
          "name": "stdout",
          "text": [
            "14\n",
            "ХОЛОДНО\n"
          ]
        }
      ],
      "source": [
        "t=float(input())\n",
        "if t<15.5:\n",
        "  print(\"ХОЛОДНО\")\n",
        "elif t>28:\n",
        "  print(\"ЖАРКО\")\n",
        "else: print(\"НОРМАЛЬНО\")\n"
      ]
    },
    {
      "cell_type": "markdown",
      "source": [
        "Задание №2"
      ],
      "metadata": {
        "id": "_X_f4lEhC0tw"
      }
    },
    {
      "cell_type": "code",
      "execution_count": null,
      "metadata": {
        "colab": {
          "base_uri": "https://localhost:8080/"
        },
        "id": "cKJU_A4DzoQc",
        "outputId": "8c9302f8-067f-4745-c994-5c7de0f6732c"
      },
      "outputs": [
        {
          "output_type": "stream",
          "name": "stdout",
          "text": [
            "4\n",
            "кот\n",
            "Кот\n",
            "сот\n",
            "вок\n",
            "['кот', 'Кот', 'сот', 'вок']\n",
            "МЯУ\n"
          ]
        }
      ],
      "source": [
        "a=int(input())\n",
        "b=[]\n",
        "for i in range(a):\n",
        "  c=input()\n",
        "  b.append(c)\n",
        "s=0\n",
        "for j in range(len(b)):\n",
        "  v=b[j].find(\"кот\")\n",
        "  w=b[j].find(\"Кот\")\n",
        "  if v!=-1 or w!=-1:\n",
        "    print('МЯУ')\n",
        "    s=s+1\n",
        "    break\n",
        "if s!=1: print('НЕТ')\n",
        "\n",
        "\n"
      ]
    },
    {
      "cell_type": "markdown",
      "source": [
        "Задание №3"
      ],
      "metadata": {
        "id": "i-6OhtYNC834"
      }
    },
    {
      "cell_type": "code",
      "source": [
        "a=[]\n",
        "b=1\n",
        "i=0\n",
        "while b==1:\n",
        "  a.append(input())\n",
        "  if a[i]=='стоп':\n",
        "    a.remove('стоп')\n",
        "    break\n",
        "  i=i+1\n",
        "a.sort(key=len)\n",
        "x=a[0]\n",
        "y=a[(len(a))-1]\n",
        "mycount=0\n",
        "for j in range(len(x)):\n",
        "  if x[j] in y:\n",
        "    mycount=mycount+1\n",
        "  else:\n",
        "    print('НЕТ')\n",
        "    break\n",
        "if mycount==len(x):print(\"ДА\")"
      ],
      "metadata": {
        "colab": {
          "base_uri": "https://localhost:8080/"
        },
        "id": "31rZNPQKC77Y",
        "outputId": "ecf4fa41-1266-4b61-9fa7-fe204501f13c"
      },
      "execution_count": null,
      "outputs": [
        {
          "output_type": "stream",
          "name": "stdout",
          "text": [
            "стол\n",
            "толстый\n",
            "худой\n",
            "стоп\n",
            "ДА\n"
          ]
        }
      ]
    },
    {
      "cell_type": "markdown",
      "source": [
        "Задание №4"
      ],
      "metadata": {
        "id": "hsWbX5kPDBCt"
      }
    },
    {
      "cell_type": "code",
      "source": [
        "a=int(input())\n",
        "b=[]\n",
        "for i in range(a):\n",
        "  c=input()\n",
        "  b.append(c)\n",
        "for i in range(a):\n",
        "  print (b[i])"
      ],
      "metadata": {
        "colab": {
          "base_uri": "https://localhost:8080/"
        },
        "id": "9mTO1ZR3DCn4",
        "outputId": "201b2b50-394e-4115-cc74-277c6f77fb14"
      },
      "execution_count": null,
      "outputs": [
        {
          "output_type": "stream",
          "name": "stdout",
          "text": [
            "4\n",
            "молоко\n",
            "хлеб\n",
            "капуста\n",
            "сок\n",
            "молоко\n",
            "хлеб\n",
            "капуста\n",
            "сок\n"
          ]
        }
      ]
    },
    {
      "cell_type": "markdown",
      "source": [
        "Задание №5"
      ],
      "metadata": {
        "id": "MpOC-ylIEG0w"
      }
    },
    {
      "cell_type": "code",
      "source": [
        "a=input()\n",
        "c=[]\n",
        "for i in range(len(a)):\n",
        "  c.append(a[i]*2)\n",
        "for i in range(len(c)):\n",
        "  print(c[i],end='')"
      ],
      "metadata": {
        "colab": {
          "base_uri": "https://localhost:8080/"
        },
        "id": "J0w_ha70EIi4",
        "outputId": "791225ca-d705-4977-de31-9505cc7fbc62"
      },
      "execution_count": null,
      "outputs": [
        {
          "output_type": "stream",
          "name": "stdout",
          "text": [
            "хлеб\n",
            "ххллеебб"
          ]
        }
      ]
    },
    {
      "cell_type": "markdown",
      "source": [
        "Задание №6"
      ],
      "metadata": {
        "id": "ULGM0CzmIALg"
      }
    },
    {
      "cell_type": "code",
      "source": [
        "def greet():\n",
        "  name=input()\n",
        "  surname=input()\n",
        "  print('Здравствуйте,', name, surname,end='.' )\n",
        "greet()"
      ],
      "metadata": {
        "colab": {
          "base_uri": "https://localhost:8080/"
        },
        "id": "lqHOxYIQICqU",
        "outputId": "352cc537-86bf-45c3-cc27-f5bb2ace3ea5"
      },
      "execution_count": null,
      "outputs": [
        {
          "output_type": "stream",
          "name": "stdout",
          "text": [
            "Ivan\n",
            "Smirnov\n",
            "Здравствуйте, Ivan Smirnov."
          ]
        }
      ]
    }
  ]
}